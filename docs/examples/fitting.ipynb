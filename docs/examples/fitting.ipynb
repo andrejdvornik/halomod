{
 "cells": [
  {
   "cell_type": "markdown",
   "metadata": {
    "collapsed": true
   },
   "source": [
    "# Fitting Correlation Functions with `emcee`"
   ]
  },
  {
   "cell_type": "markdown",
   "metadata": {},
   "source": [
    "In this demo, we provide a very simple example of how to fit galaxy correlation functions with `emcee`. This example does not do anything with the complexity required for fitting real-world data. It does not account for measurement error, or redshift evolution or redshift-space distortions. However, it gives a taste of what is achievable."
   ]
  },
  {
   "cell_type": "code",
   "execution_count": 1,
   "metadata": {},
   "outputs": [],
   "source": [
    "import emcee\n",
    "import halomod\n",
    "import numpy as np\n",
    "\n",
    "import matplotlib.pyplot as plt\n",
    "from scipy.stats import norm\n",
    "from multiprocess import Pool\n",
    "\n",
    "import corner\n",
    "\n",
    "%matplotlib inline"
   ]
  },
  {
   "cell_type": "code",
   "execution_count": 2,
   "metadata": {},
   "outputs": [
    {
     "data": {
      "text/plain": [
       "'3.0.2'"
      ]
     },
     "execution_count": 2,
     "metadata": {},
     "output_type": "execute_result"
    }
   ],
   "source": [
    "emcee.__version__"
   ]
  },
  {
   "cell_type": "code",
   "execution_count": 3,
   "metadata": {},
   "outputs": [
    {
     "data": {
      "text/plain": [
       "'1.5.0'"
      ]
     },
     "execution_count": 3,
     "metadata": {},
     "output_type": "execute_result"
    }
   ],
   "source": [
    "halomod.__version__"
   ]
  },
  {
   "cell_type": "markdown",
   "metadata": {},
   "source": [
    "## Create Some Mock Data"
   ]
  },
  {
   "cell_type": "markdown",
   "metadata": {},
   "source": [
    "First, let's create a default galaxy halo model:"
   ]
  },
  {
   "cell_type": "code",
   "execution_count": 4,
   "metadata": {},
   "outputs": [],
   "source": [
    "model = halomod.TracerHaloModel(\n",
    "    z=0.2, \n",
    "    transfer_model='EH', \n",
    "    rnum=30, \n",
    "    rmin=0.1,\n",
    "    rmax=30,\n",
    "    hod_model='Zehavi05', \n",
    "    hod_params={\n",
    "        \"M_min\": 12.0,\n",
    "        \"M_1\": 12.8,\n",
    "        'alpha': 1.05\n",
    "    },\n",
    "    dr_table=0.1,\n",
    "    dlnk=0.1,\n",
    "    dlog10m=0.05\n",
    ")"
   ]
  },
  {
   "cell_type": "markdown",
   "metadata": {},
   "source": [
    "Now, let's create some mock data with some Gaussian noise:"
   ]
  },
  {
   "cell_type": "code",
   "execution_count": 5,
   "metadata": {},
   "outputs": [
    {
     "name": "stderr",
     "output_type": "stream",
     "text": [
      "/home/steven/Documents/Projects/halos/HALOMOD/halomod/src/halomod/tools.py:527: RuntimeWarning: invalid value encountered in true_divide\n",
      "  norm = self._spl(match_x) / fnc(match_x)\n",
      "/home/steven/Documents/Projects/halos/HALOMOD/halomod/src/halomod/tools.py:527: RuntimeWarning: divide by zero encountered in true_divide\n",
      "  norm = self._spl(match_x) / fnc(match_x)\n"
     ]
    }
   ],
   "source": [
    "mock_data = model.corr_auto_tracer + np.random.normal(scale = 0.2 * np.abs(model.corr_auto_tracer))"
   ]
  },
  {
   "cell_type": "code",
   "execution_count": 6,
   "metadata": {},
   "outputs": [],
   "source": [
    "np.save(\"mock_data\", mock_data)"
   ]
  },
  {
   "cell_type": "code",
   "execution_count": 7,
   "metadata": {},
   "outputs": [
    {
     "data": {
      "image/png": "[encoded data removed]",
      "text/plain": [
       "<Figure size 432x288 with 1 Axes>"
      ]
     },
     "metadata": {
      "needs_background": "light"
     },
     "output_type": "display_data"
    }
   ],
   "source": [
    "plt.plot(model.r, model.corr_auto_tracer)\n",
    "plt.scatter(model.r, mock_data)\n",
    "plt.xscale('log')\n",
    "plt.yscale('log')"
   ]
  },
  {
   "cell_type": "markdown",
   "metadata": {},
   "source": [
    "## Define a likelihood"
   ]
  },
  {
   "cell_type": "markdown",
   "metadata": {},
   "source": [
    "Now let's define a likelihood function, based on some input model for $\\xi(r)$. The model is simply a $\\chi^2$ likelihood. "
   ]
  },
  {
   "cell_type": "code",
   "execution_count": 8,
   "metadata": {},
   "outputs": [],
   "source": [
    "def chi_square(model, data, sigma):\n",
    "    return np.sum(norm.logpdf(data, loc=model, scale=sigma))"
   ]
  },
  {
   "cell_type": "markdown",
   "metadata": {},
   "source": [
    "## Define an `emcee`-compatible likelihood function"
   ]
  },
  {
   "cell_type": "markdown",
   "metadata": {},
   "source": [
    "Now we define a likelihood function for `emcee`. There is a bit more flexibility here, as this function needs to calculate priors on all input parameters, and handle exceptions as well. This means this function is rather specific to the problem at hand. We will define a very simple function, but one that is fairly general."
   ]
  },
  {
   "cell_type": "code",
   "execution_count": 9,
   "metadata": {},
   "outputs": [],
   "source": [
    "fiducial_model = model.clone()"
   ]
  },
  {
   "cell_type": "markdown",
   "metadata": {},
   "source": [
    "First, we define a small utility function that will take a dictionary in which keys may be dot-paths, and converts it to a nested dictionary:"
   ]
  },
  {
   "cell_type": "code",
   "execution_count": 10,
   "metadata": {},
   "outputs": [],
   "source": [
    "def flat_to_nested_dict(dct: dict) -> dict:\n",
    "    \"\"\"Convert a dct of key: value pairs into a nested dict.\n",
    "    \n",
    "    Keys that have dots in them indicate nested structure.\n",
    "    \"\"\"    \n",
    "    def key_to_dct(key, val, dct):\n",
    "        if '.' in key:\n",
    "            key, parts = key.split('.', maxsplit=1)\n",
    "            \n",
    "            if key not in dct:\n",
    "                dct[key] = {}\n",
    "                \n",
    "            key_to_dct(parts, val, dct[key])\n",
    "        else:\n",
    "            dct[key] = val\n",
    "            \n",
    "    out = {} \n",
    "    for k, v in dct.items():\n",
    "        key_to_dct(k, v, out)\n",
    "\n",
    "    return out"
   ]
  },
  {
   "cell_type": "markdown",
   "metadata": {},
   "source": [
    "So, this will do the following:"
   ]
  },
  {
   "cell_type": "code",
   "execution_count": 11,
   "metadata": {},
   "outputs": [
    {
     "data": {
      "text/plain": [
       "{'nested': {'key': 1, 'key2': 2}, 'non_nested': 3}"
      ]
     },
     "execution_count": 11,
     "metadata": {},
     "output_type": "execute_result"
    }
   ],
   "source": [
    "flat_to_nested_dict(\n",
    "    {\n",
    "        'nested.key': 1,\n",
    "        'nested.key2': 2,\n",
    "        'non_nested': 3\n",
    "        \n",
    "    }\n",
    ")"
   ]
  },
  {
   "cell_type": "markdown",
   "metadata": {},
   "source": [
    "This will enable us to pass a list of parameter names that we want updated, which could be parameters of nested models. This means our posterior function is fairly general, and can accept any model parameters to be updated:"
   ]
  },
  {
   "cell_type": "code",
   "execution_count": 12,
   "metadata": {},
   "outputs": [],
   "source": [
    "def log_prob(param_values, param_names, data, model, bounds=None, derived=()):\n",
    "    # Pack parameters into a dict\n",
    "    params = dict(zip(param_names, param_values))\n",
    "    \n",
    "    # Allow for simple bounded flat priors.\n",
    "    bounds = bounds or {}\n",
    "    for key, val in params.items():\n",
    "        bound = bounds.get(key, (-np.inf, np.inf))\n",
    "        if not bound[0] < val < bound[1]:\n",
    "            return -np.inf, -np.inf\n",
    "    \n",
    "    # Update the base model with all the parameters that are being constrained.\n",
    "    params = flat_to_nested_dict(params)\n",
    "    model.update(**params)\n",
    "    \n",
    "    derived = tuple(getattr(model, d) for d in derived)\n",
    "    \n",
    "    ll = chi_square(model.corr_auto_tracer, data, 0.2 * np.abs(model.corr_auto_tracer))\n",
    "    \n",
    "    if not np.isfinite(ll):\n",
    "        return -np.inf, -np.inf\n",
    "    \n",
    "    out = (ll,) + derived\n",
    "    return out"
   ]
  },
  {
   "cell_type": "markdown",
   "metadata": {},
   "source": [
    "We can test that the `log_prob` function works:"
   ]
  },
  {
   "cell_type": "code",
   "execution_count": 13,
   "metadata": {},
   "outputs": [
    {
     "data": {
      "text/plain": [
       "(-80.43833990453788, 0.48966668502816935, 0.008751566584300256)"
      ]
     },
     "execution_count": 13,
     "metadata": {},
     "output_type": "execute_result"
    }
   ],
   "source": [
    "log_prob(\n",
    "    [12.0, 12.8, 1.05], \n",
    "    ['hod_params.M_min', 'hod_params.M_1', 'hod_params.alpha'], \n",
    "    mock_data, \n",
    "    model, \n",
    "    derived=['satellite_fraction', 'mean_tracer_den']\n",
    ")"
   ]
  },
  {
   "cell_type": "markdown",
   "metadata": {},
   "source": [
    "Notice the derived parameters: we can pass any `quantity` of the `TracerHaloModel`, and it will be stored on every iteration. Nice!"
   ]
  },
  {
   "cell_type": "markdown",
   "metadata": {},
   "source": [
    "## Run `emcee`"
   ]
  },
  {
   "cell_type": "markdown",
   "metadata": {},
   "source": [
    "Let's first run a simple model in which we just want to fit $\\sigma_8$ and the spectral index $n_s$. We use the popular `emcee` package, and pass in our `log_prob` model:"
   ]
  },
  {
   "cell_type": "code",
   "execution_count": 21,
   "metadata": {},
   "outputs": [
    {
     "name": "stderr",
     "output_type": "stream",
     "text": [
      "/home/steven/Documents/Projects/halos/HALOMOD/halomod/src/halomod/tools.py:527: RuntimeWarning: invalid value encountered in true_divide\n",
      "  norm = self._spl(match_x) / fnc(match_x)\n",
      "/home/steven/Documents/Projects/halos/HALOMOD/halomod/src/halomod/tools.py:527: RuntimeWarning: invalid value encountered in true_divide\n",
      "  norm = self._spl(match_x) / fnc(match_x)\n",
      "/home/steven/Documents/Projects/halos/HALOMOD/halomod/src/halomod/tools.py:527: RuntimeWarning: invalid value encountered in true_divide\n",
      "  norm = self._spl(match_x) / fnc(match_x)\n",
      "/home/steven/Documents/Projects/halos/HALOMOD/halomod/src/halomod/tools.py:527: RuntimeWarning: invalid value encountered in true_divide\n",
      "  norm = self._spl(match_x) / fnc(match_x)\n",
      "/home/steven/Documents/Projects/halos/HALOMOD/halomod/src/halomod/tools.py:527: RuntimeWarning: invalid value encountered in true_divide\n",
      "  norm = self._spl(match_x) / fnc(match_x)\n",
      "/home/steven/Documents/Projects/halos/HALOMOD/halomod/src/halomod/tools.py:527: RuntimeWarning: invalid value encountered in true_divide\n",
      "  norm = self._spl(match_x) / fnc(match_x)\n",
      "/home/steven/Documents/Projects/halos/HALOMOD/halomod/src/halomod/tools.py:527: RuntimeWarning: divide by zero encountered in true_divide\n",
      "  norm = self._spl(match_x) / fnc(match_x)\n",
      "/home/steven/Documents/Projects/halos/HALOMOD/halomod/src/halomod/tools.py:527: RuntimeWarning: divide by zero encountered in true_divide\n",
      "  norm = self._spl(match_x) / fnc(match_x)\n",
      "/home/steven/Documents/Projects/halos/HALOMOD/halomod/src/halomod/tools.py:527: RuntimeWarning: divide by zero encountered in true_divide\n",
      "  norm = self._spl(match_x) / fnc(match_x)\n",
      "/home/steven/Documents/Projects/halos/HALOMOD/halomod/src/halomod/tools.py:527: RuntimeWarning: divide by zero encountered in true_divide\n",
      "  norm = self._spl(match_x) / fnc(match_x)\n",
      "/home/steven/Documents/Projects/halos/HALOMOD/halomod/src/halomod/tools.py:527: RuntimeWarning: divide by zero encountered in true_divide\n",
      "  norm = self._spl(match_x) / fnc(match_x)\n",
      "/home/steven/Documents/Projects/halos/HALOMOD/halomod/src/halomod/tools.py:527: RuntimeWarning: divide by zero encountered in true_divide\n",
      "  norm = self._spl(match_x) / fnc(match_x)\n"
     ]
    }
   ],
   "source": [
    "backend = emcee.backends.HDFBackend(\"backend.h5\")\n",
    "sampler = emcee.EnsembleSampler(\n",
    "    nwalkers = 100,\n",
    "    ndim = 3,\n",
    "    log_prob_fn = log_prob,\n",
    "    kwargs = {\n",
    "        'param_names': ['hod_params.M_min', 'hod_params.M_1', 'hod_params.alpha'],  \n",
    "        'data': mock_data, \n",
    "        'model': model,  \n",
    "        'derived': ['satellite_fraction', 'mean_tracer_den', 'corr_auto_tracer'],\n",
    "        'bounds':{\"hod_params.M_min\": (10, 14), 'hod_params.M_1': (10, 15), 'hod_params.alpha': (0.5, 1.5)}\n",
    "    },\n",
    "    pool = Pool(6),\n",
    "    blobs_dtype=[(\"sat_frac\", float), (\"tracer_den\", float), (\"corr_auto_tracer\", (float, len(mock_data)))],\n",
    "    backend=backend\n",
    ")"
   ]
  },
  {
   "cell_type": "markdown",
   "metadata": {},
   "source": [
    "On the advice of the `emcee` documentation, we set up some initial positions of the walkers around the solution."
   ]
  },
  {
   "cell_type": "code",
   "execution_count": 22,
   "metadata": {},
   "outputs": [],
   "source": [
    "initialpos = np.array([\n",
    "    fiducial_model.hod.params['M_min'], \n",
    "    fiducial_model.hod.params['M_1'],\n",
    "    fiducial_model.hod.params['alpha']\n",
    "]) + 1e-4 * np.random.normal(size=(sampler.nwalkers, sampler.ndim))"
   ]
  },
  {
   "cell_type": "code",
   "execution_count": 23,
   "metadata": {},
   "outputs": [
    {
     "name": "stderr",
     "output_type": "stream",
     "text": [
      "  7%|▋         | 73/1000 [09:45<2:03:55,  8.02s/it]\n"
     ]
    },
    {
     "ename": "ValueError",
     "evalue": "could not assign tuple of length 1 to structure with 3 fields.",
     "output_type": "error",
     "traceback": [
      "\u001b[0;31m---------------------------------------------------------------------------\u001b[0m",
      "\u001b[0;31mValueError\u001b[0m                                Traceback (most recent call last)",
      "\u001b[0;32m<ipython-input-23-912eea46869e>\u001b[0m in \u001b[0;36m<module>\u001b[0;34m\u001b[0m\n\u001b[0;32m----> 1\u001b[0;31m \u001b[0msampler\u001b[0m\u001b[0;34m.\u001b[0m\u001b[0mrun_mcmc\u001b[0m\u001b[0;34m(\u001b[0m\u001b[0minitialpos\u001b[0m\u001b[0;34m,\u001b[0m \u001b[0mnsteps\u001b[0m\u001b[0;34m=\u001b[0m\u001b[0;36m1000\u001b[0m\u001b[0;34m,\u001b[0m \u001b[0mprogress\u001b[0m\u001b[0;34m=\u001b[0m\u001b[0;32mTrue\u001b[0m\u001b[0;34m)\u001b[0m\u001b[0;34m;\u001b[0m\u001b[0;34m\u001b[0m\u001b[0m\n\u001b[0m",
      "\u001b[0;32m~/miniconda3/envs/halomod/lib/python3.7/site-packages/emcee/ensemble.py\u001b[0m in \u001b[0;36mrun_mcmc\u001b[0;34m(self, initial_state, nsteps, **kwargs)\u001b[0m\n\u001b[1;32m    382\u001b[0m \u001b[0;34m\u001b[0m\u001b[0m\n\u001b[1;32m    383\u001b[0m         \u001b[0mresults\u001b[0m \u001b[0;34m=\u001b[0m \u001b[0;32mNone\u001b[0m\u001b[0;34m\u001b[0m\u001b[0m\n\u001b[0;32m--> 384\u001b[0;31m         \u001b[0;32mfor\u001b[0m \u001b[0mresults\u001b[0m \u001b[0;32min\u001b[0m \u001b[0mself\u001b[0m\u001b[0;34m.\u001b[0m\u001b[0msample\u001b[0m\u001b[0;34m(\u001b[0m\u001b[0minitial_state\u001b[0m\u001b[0;34m,\u001b[0m \u001b[0miterations\u001b[0m\u001b[0;34m=\u001b[0m\u001b[0mnsteps\u001b[0m\u001b[0;34m,\u001b[0m \u001b[0;34m**\u001b[0m\u001b[0mkwargs\u001b[0m\u001b[0;34m)\u001b[0m\u001b[0;34m:\u001b[0m\u001b[0;34m\u001b[0m\u001b[0m\n\u001b[0m\u001b[1;32m    385\u001b[0m             \u001b[0;32mpass\u001b[0m\u001b[0;34m\u001b[0m\u001b[0m\n\u001b[1;32m    386\u001b[0m \u001b[0;34m\u001b[0m\u001b[0m\n",
      "\u001b[0;32m~/miniconda3/envs/halomod/lib/python3.7/site-packages/emcee/ensemble.py\u001b[0m in \u001b[0;36msample\u001b[0;34m(self, initial_state, log_prob0, rstate0, blobs0, iterations, tune, skip_initial_state_check, thin_by, thin, store, progress)\u001b[0m\n\u001b[1;32m    341\u001b[0m \u001b[0;34m\u001b[0m\u001b[0m\n\u001b[1;32m    342\u001b[0m                     \u001b[0;31m# Propose\u001b[0m\u001b[0;34m\u001b[0m\u001b[0;34m\u001b[0m\u001b[0m\n\u001b[0;32m--> 343\u001b[0;31m                     \u001b[0mstate\u001b[0m\u001b[0;34m,\u001b[0m \u001b[0maccepted\u001b[0m \u001b[0;34m=\u001b[0m \u001b[0mmove\u001b[0m\u001b[0;34m.\u001b[0m\u001b[0mpropose\u001b[0m\u001b[0;34m(\u001b[0m\u001b[0mmodel\u001b[0m\u001b[0;34m,\u001b[0m \u001b[0mstate\u001b[0m\u001b[0;34m)\u001b[0m\u001b[0;34m\u001b[0m\u001b[0m\n\u001b[0m\u001b[1;32m    344\u001b[0m                     \u001b[0mstate\u001b[0m\u001b[0;34m.\u001b[0m\u001b[0mrandom_state\u001b[0m \u001b[0;34m=\u001b[0m \u001b[0mself\u001b[0m\u001b[0;34m.\u001b[0m\u001b[0mrandom_state\u001b[0m\u001b[0;34m\u001b[0m\u001b[0m\n\u001b[1;32m    345\u001b[0m \u001b[0;34m\u001b[0m\u001b[0m\n",
      "\u001b[0;32m~/miniconda3/envs/halomod/lib/python3.7/site-packages/emcee/moves/red_blue.py\u001b[0m in \u001b[0;36mpropose\u001b[0;34m(self, model, state)\u001b[0m\n\u001b[1;32m     91\u001b[0m \u001b[0;34m\u001b[0m\u001b[0m\n\u001b[1;32m     92\u001b[0m             \u001b[0;31m# Compute the lnprobs of the proposed position.\u001b[0m\u001b[0;34m\u001b[0m\u001b[0;34m\u001b[0m\u001b[0m\n\u001b[0;32m---> 93\u001b[0;31m             \u001b[0mnew_log_probs\u001b[0m\u001b[0;34m,\u001b[0m \u001b[0mnew_blobs\u001b[0m \u001b[0;34m=\u001b[0m \u001b[0mmodel\u001b[0m\u001b[0;34m.\u001b[0m\u001b[0mcompute_log_prob_fn\u001b[0m\u001b[0;34m(\u001b[0m\u001b[0mq\u001b[0m\u001b[0;34m)\u001b[0m\u001b[0;34m\u001b[0m\u001b[0m\n\u001b[0m\u001b[1;32m     94\u001b[0m \u001b[0;34m\u001b[0m\u001b[0m\n\u001b[1;32m     95\u001b[0m             \u001b[0;31m# Loop over the walkers and update them accordingly.\u001b[0m\u001b[0;34m\u001b[0m\u001b[0;34m\u001b[0m\u001b[0m\n",
      "\u001b[0;32m~/miniconda3/envs/halomod/lib/python3.7/site-packages/emcee/ensemble.py\u001b[0m in \u001b[0;36mcompute_log_prob\u001b[0;34m(self, coords)\u001b[0m\n\u001b[1;32m    443\u001b[0m                 \u001b[0;32mexcept\u001b[0m \u001b[0mValueError\u001b[0m\u001b[0;34m:\u001b[0m\u001b[0;34m\u001b[0m\u001b[0m\n\u001b[1;32m    444\u001b[0m                     \u001b[0mdt\u001b[0m \u001b[0;34m=\u001b[0m \u001b[0mnp\u001b[0m\u001b[0;34m.\u001b[0m\u001b[0mdtype\u001b[0m\u001b[0;34m(\u001b[0m\u001b[0;34m\"object\"\u001b[0m\u001b[0;34m)\u001b[0m\u001b[0;34m\u001b[0m\u001b[0m\n\u001b[0;32m--> 445\u001b[0;31m             \u001b[0mblob\u001b[0m \u001b[0;34m=\u001b[0m \u001b[0mnp\u001b[0m\u001b[0;34m.\u001b[0m\u001b[0marray\u001b[0m\u001b[0;34m(\u001b[0m\u001b[0mblob\u001b[0m\u001b[0;34m,\u001b[0m \u001b[0mdtype\u001b[0m\u001b[0;34m=\u001b[0m\u001b[0mdt\u001b[0m\u001b[0;34m)\u001b[0m\u001b[0;34m\u001b[0m\u001b[0m\n\u001b[0m\u001b[1;32m    446\u001b[0m \u001b[0;34m\u001b[0m\u001b[0m\n\u001b[1;32m    447\u001b[0m             \u001b[0;31m# Deal with single blobs properly\u001b[0m\u001b[0;34m\u001b[0m\u001b[0;34m\u001b[0m\u001b[0m\n",
      "\u001b[0;31mValueError\u001b[0m: could not assign tuple of length 1 to structure with 3 fields."
     ]
    }
   ],
   "source": [
    "sampler.run_mcmc(initialpos, nsteps=1000, progress=True);"
   ]
  },
  {
   "cell_type": "markdown",
   "metadata": {},
   "source": [
    "Now we can plot the posterior in a corner plot, along with the derived parameters, and the true input values:"
   ]
  },
  {
   "cell_type": "code",
   "execution_count": null,
   "metadata": {},
   "outputs": [],
   "source": [
    "flatchain = sampler.get_chain(discard=500, thin=5, flat=True)\n",
    "blobs = sampler.get_blobs(discard=500, thin=5, flat=True)\n",
    "\n",
    "flatchain = np.hstack((flatchain, blobs))\n",
    "\n",
    "# Plot density in log units.\n",
    "flatchain[:, -1] = np.log10(flatchain[:, -1])"
   ]
  },
  {
   "cell_type": "code",
   "execution_count": null,
   "metadata": {},
   "outputs": [],
   "source": [
    "corner.corner(\n",
    "    flatchain, \n",
    "    labels=['$M_{\\rm min}', '$M_1$', '$\\alpha$', '$f_{\\rm sat}$', r'$\\log_{10}\\bar{n}_g$'], \n",
    "    truths=[12.0, 12.8, 1.05, fiducial_model.satellite_fraction, np.log10(fiducial_model.mean_tracer_den)], \n",
    "    show_titles=True, \n",
    "    range=[0.95, 0.95, 0.95, 0.95, 0.95]\n",
    ");"
   ]
  },
  {
   "cell_type": "markdown",
   "metadata": {},
   "source": [
    "And we're done! The posterior contains the truth to within 1-sigma."
   ]
  },
  {
   "cell_type": "markdown",
   "metadata": {},
   "source": [
    "## Fitting non-HOD parameters"
   ]
  },
  {
   "cell_type": "markdown",
   "metadata": {},
   "source": [
    "In this example, we'll additionally fit some cosmological parameters, $n_s$ and $\\sigma_8$:"
   ]
  },
  {
   "cell_type": "code",
   "execution_count": null,
   "metadata": {},
   "outputs": [],
   "source": [
    "backend_cosmo = emcee.backends.HDFBackend('sampler_cosmo.h5')\n",
    "# backend.reset(nwalkers, ndim)\n",
    "sampler_cosmo = emcee.EnsembleSampler(\n",
    "    nwalkers = 100,\n",
    "    ndim = 5,\n",
    "    log_prob_fn = log_prob,\n",
    "    kwargs = {\n",
    "        'param_names': ['hod_params.M_min', 'hod_params.M_1', 'hod_params.alpha', 'sigma_8', 'n'],  \n",
    "        'data': mock_data, \n",
    "        'model': model,  \n",
    "        'derived': ['satellite_fraction', 'mean_tracer_den', 'corr_auto_tracer'],\n",
    "        'bounds':{\"hod_params.M_min\": (10, 14), 'hod_params.M_1': (10, 15),\n",
    "                  'hod_params.alpha': (0.5, 1.5), \n",
    "                  'sigma_8': (0.75, 0.85), 'n': (0.94, 1.02)}\n",
    "    },\n",
    "    backend=backend_cosmo,\n",
    "    pool = Pool(4),\n",
    ")"
   ]
  },
  {
   "cell_type": "code",
   "execution_count": null,
   "metadata": {},
   "outputs": [],
   "source": [
    "initialpos = np.array([\n",
    "    fiducial_model.hod.params['M_min'], \n",
    "    fiducial_model.hod.params['M_1'],\n",
    "    fiducial_model.hod.params['alpha'],\n",
    "    fiducial_model.sigma_8,\n",
    "    fiducial_model.n\n",
    "]) + 1e-4 * np.random.normal(size=(sampler_cosmo.nwalkers, sampler_cosmo.ndim))"
   ]
  },
  {
   "cell_type": "code",
   "execution_count": null,
   "metadata": {},
   "outputs": [],
   "source": [
    "sampler_cosmo.run_mcmc(initialpos, nsteps=1000, progress=True);"
   ]
  },
  {
   "cell_type": "markdown",
   "metadata": {},
   "source": [
    "## Fitting a mismatched model"
   ]
  },
  {
   "cell_type": "markdown",
   "metadata": {},
   "source": [
    "In this example, we'll fit a model that is not the same as the input model. We'll fit the $\\alpha_{\\rm Ein}$ parameter of the Einasto profile (even though the data was modelled with an NFW profile):"
   ]
  },
  {
   "cell_type": "code",
   "execution_count": null,
   "metadata": {},
   "outputs": [],
   "source": [
    "backend_ein = emcee.backends.HDFBackend('sampler_ein.h5')\n",
    "# backend.reset(nwalkers, ndim)\n",
    "sampler_ein = emcee.EnsembleSampler(\n",
    "    nwalkers = 100,\n",
    "    ndim = 5,\n",
    "    log_prob_fn = log_prob,\n",
    "    kwargs = {\n",
    "        'param_names': ['hod_params.M_min', 'hod_params.M_1', 'hod_params.alpha', 'halo_profile_params.alpha'],  \n",
    "        'data': mock_data, \n",
    "        'model': model,  \n",
    "        'derived': ['satellite_fraction', 'mean_tracer_den', 'corr_auto_tracer'],\n",
    "        'bounds':{\"hod_params.M_min\": (10, 14), 'hod_params.M_1': (10, 15),\n",
    "                  'hod_params.alpha': (0.5, 1.5), \n",
    "                  'halo_profile_params.alpha': (0.05, 0.4),}\n",
    "    },\n",
    "    backend=backend_ein,\n",
    "    pool = Pool(6),\n",
    ")"
   ]
  },
  {
   "cell_type": "code",
   "execution_count": null,
   "metadata": {},
   "outputs": [],
   "source": [
    "initialpos = np.array([\n",
    "    fiducial_model.hod.params['M_min'], \n",
    "    fiducial_model.hod.params['M_1'],\n",
    "    fiducial_model.hod.params['alpha'],\n",
    "    fiducial_model.halo_profile.params['alpha']\n",
    "]) + 1e-4 * np.random.normal(size=(sampler_ein.nwalkers, sampler_ein.ndim))"
   ]
  },
  {
   "cell_type": "code",
   "execution_count": null,
   "metadata": {},
   "outputs": [],
   "source": [
    "sampler_ein.run_mcmc(initialpos, nsteps=1000, progress=True);"
   ]
  },
  {
   "cell_type": "code",
   "execution_count": null,
   "metadata": {},
   "outputs": [],
   "source": []
  }
 ],
 "metadata": {
  "kernelspec": {
   "display_name": "Python [conda env:halomod]",
   "language": "python",
   "name": "conda-env-halomod-py"
  },
  "language_info": {
   "codemirror_mode": {
    "name": "ipython",
    "version": 3
   },
   "file_extension": ".py",
   "mimetype": "text/x-python",
   "name": "python",
   "nbconvert_exporter": "python",
   "pygments_lexer": "ipython3",
   "version": "3.7.0"
  }
 },
 "nbformat": 4,
 "nbformat_minor": 1
}
